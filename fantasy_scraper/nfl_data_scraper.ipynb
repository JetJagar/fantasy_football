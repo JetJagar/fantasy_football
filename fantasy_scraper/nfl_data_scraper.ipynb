{
 "cells": [
  {
   "cell_type": "code",
   "execution_count": 1,
   "metadata": {},
   "outputs": [
    {
     "name": "stdout",
     "output_type": "stream",
     "text": [
      "🔄 Scraping 2017...\n"
     ]
    },
    {
     "name": "stderr",
     "output_type": "stream",
     "text": [
      "C:\\Users\\Carl\\AppData\\Local\\Temp\\ipykernel_9688\\1311803391.py:26: FutureWarning: Passing literal html to 'read_html' is deprecated and will be removed in a future version. To read from a literal string, wrap it in a 'StringIO' object.\n",
      "  df = pd.read_html(str(table))[0]\n"
     ]
    },
    {
     "name": "stdout",
     "output_type": "stream",
     "text": [
      "🔄 Scraping 2018...\n"
     ]
    },
    {
     "name": "stderr",
     "output_type": "stream",
     "text": [
      "C:\\Users\\Carl\\AppData\\Local\\Temp\\ipykernel_9688\\1311803391.py:26: FutureWarning: Passing literal html to 'read_html' is deprecated and will be removed in a future version. To read from a literal string, wrap it in a 'StringIO' object.\n",
      "  df = pd.read_html(str(table))[0]\n"
     ]
    },
    {
     "name": "stdout",
     "output_type": "stream",
     "text": [
      "🔄 Scraping 2019...\n"
     ]
    },
    {
     "name": "stderr",
     "output_type": "stream",
     "text": [
      "C:\\Users\\Carl\\AppData\\Local\\Temp\\ipykernel_9688\\1311803391.py:26: FutureWarning: Passing literal html to 'read_html' is deprecated and will be removed in a future version. To read from a literal string, wrap it in a 'StringIO' object.\n",
      "  df = pd.read_html(str(table))[0]\n"
     ]
    },
    {
     "name": "stdout",
     "output_type": "stream",
     "text": [
      "🔄 Scraping 2020...\n"
     ]
    },
    {
     "name": "stderr",
     "output_type": "stream",
     "text": [
      "C:\\Users\\Carl\\AppData\\Local\\Temp\\ipykernel_9688\\1311803391.py:26: FutureWarning: Passing literal html to 'read_html' is deprecated and will be removed in a future version. To read from a literal string, wrap it in a 'StringIO' object.\n",
      "  df = pd.read_html(str(table))[0]\n"
     ]
    },
    {
     "name": "stdout",
     "output_type": "stream",
     "text": [
      "🔄 Scraping 2021...\n"
     ]
    },
    {
     "name": "stderr",
     "output_type": "stream",
     "text": [
      "C:\\Users\\Carl\\AppData\\Local\\Temp\\ipykernel_9688\\1311803391.py:26: FutureWarning: Passing literal html to 'read_html' is deprecated and will be removed in a future version. To read from a literal string, wrap it in a 'StringIO' object.\n",
      "  df = pd.read_html(str(table))[0]\n"
     ]
    },
    {
     "name": "stdout",
     "output_type": "stream",
     "text": [
      "🔄 Scraping 2022...\n"
     ]
    },
    {
     "name": "stderr",
     "output_type": "stream",
     "text": [
      "C:\\Users\\Carl\\AppData\\Local\\Temp\\ipykernel_9688\\1311803391.py:26: FutureWarning: Passing literal html to 'read_html' is deprecated and will be removed in a future version. To read from a literal string, wrap it in a 'StringIO' object.\n",
      "  df = pd.read_html(str(table))[0]\n"
     ]
    },
    {
     "name": "stdout",
     "output_type": "stream",
     "text": [
      "🔄 Scraping 2023...\n"
     ]
    },
    {
     "name": "stderr",
     "output_type": "stream",
     "text": [
      "C:\\Users\\Carl\\AppData\\Local\\Temp\\ipykernel_9688\\1311803391.py:26: FutureWarning: Passing literal html to 'read_html' is deprecated and will be removed in a future version. To read from a literal string, wrap it in a 'StringIO' object.\n",
      "  df = pd.read_html(str(table))[0]\n"
     ]
    },
    {
     "name": "stdout",
     "output_type": "stream",
     "text": [
      "🔄 Scraping 2024...\n"
     ]
    },
    {
     "name": "stderr",
     "output_type": "stream",
     "text": [
      "C:\\Users\\Carl\\AppData\\Local\\Temp\\ipykernel_9688\\1311803391.py:26: FutureWarning: Passing literal html to 'read_html' is deprecated and will be removed in a future version. To read from a literal string, wrap it in a 'StringIO' object.\n",
      "  df = pd.read_html(str(table))[0]\n"
     ]
    },
    {
     "name": "stdout",
     "output_type": "stream",
     "text": [
      "✅ Combined DataFrame shape: (5264, 34)\n"
     ]
    },
    {
     "data": {
      "text/html": [
       "<div>\n",
       "<style scoped>\n",
       "    .dataframe tbody tr th:only-of-type {\n",
       "        vertical-align: middle;\n",
       "    }\n",
       "\n",
       "    .dataframe tbody tr th {\n",
       "        vertical-align: top;\n",
       "    }\n",
       "\n",
       "    .dataframe thead tr th {\n",
       "        text-align: left;\n",
       "    }\n",
       "</style>\n",
       "<table border=\"1\" class=\"dataframe\">\n",
       "  <thead>\n",
       "    <tr>\n",
       "      <th></th>\n",
       "      <th>Unnamed: 0_level_0</th>\n",
       "      <th>Unnamed: 1_level_0</th>\n",
       "      <th>Unnamed: 2_level_0</th>\n",
       "      <th>Unnamed: 3_level_0</th>\n",
       "      <th>Unnamed: 4_level_0</th>\n",
       "      <th colspan=\"2\" halign=\"left\">Games</th>\n",
       "      <th colspan=\"3\" halign=\"left\">Passing</th>\n",
       "      <th>...</th>\n",
       "      <th colspan=\"2\" halign=\"left\">Scoring</th>\n",
       "      <th colspan=\"7\" halign=\"left\">Fantasy</th>\n",
       "      <th>Season</th>\n",
       "    </tr>\n",
       "    <tr>\n",
       "      <th></th>\n",
       "      <th>Rk</th>\n",
       "      <th>Player</th>\n",
       "      <th>Tm</th>\n",
       "      <th>FantPos</th>\n",
       "      <th>Age</th>\n",
       "      <th>G</th>\n",
       "      <th>GS</th>\n",
       "      <th>Cmp</th>\n",
       "      <th>Att</th>\n",
       "      <th>Yds</th>\n",
       "      <th>...</th>\n",
       "      <th>2PM</th>\n",
       "      <th>2PP</th>\n",
       "      <th>FantPt</th>\n",
       "      <th>PPR</th>\n",
       "      <th>DKPt</th>\n",
       "      <th>FDPt</th>\n",
       "      <th>VBD</th>\n",
       "      <th>PosRank</th>\n",
       "      <th>OvRank</th>\n",
       "      <th></th>\n",
       "    </tr>\n",
       "  </thead>\n",
       "  <tbody>\n",
       "    <tr>\n",
       "      <th>0</th>\n",
       "      <td>1</td>\n",
       "      <td>Todd Gurley*+</td>\n",
       "      <td>LAR</td>\n",
       "      <td>RB</td>\n",
       "      <td>23</td>\n",
       "      <td>15</td>\n",
       "      <td>15</td>\n",
       "      <td>0</td>\n",
       "      <td>0</td>\n",
       "      <td>0</td>\n",
       "      <td>...</td>\n",
       "      <td>NaN</td>\n",
       "      <td>NaN</td>\n",
       "      <td>319</td>\n",
       "      <td>383.3</td>\n",
       "      <td>391.3</td>\n",
       "      <td>351.3</td>\n",
       "      <td>192</td>\n",
       "      <td>1</td>\n",
       "      <td>1</td>\n",
       "      <td>2017</td>\n",
       "    </tr>\n",
       "    <tr>\n",
       "      <th>1</th>\n",
       "      <td>2</td>\n",
       "      <td>Le'Veon Bell*+</td>\n",
       "      <td>PIT</td>\n",
       "      <td>RB</td>\n",
       "      <td>25</td>\n",
       "      <td>15</td>\n",
       "      <td>15</td>\n",
       "      <td>0</td>\n",
       "      <td>0</td>\n",
       "      <td>0</td>\n",
       "      <td>...</td>\n",
       "      <td>NaN</td>\n",
       "      <td>NaN</td>\n",
       "      <td>257</td>\n",
       "      <td>341.6</td>\n",
       "      <td>349.6</td>\n",
       "      <td>299.1</td>\n",
       "      <td>130</td>\n",
       "      <td>2</td>\n",
       "      <td>2</td>\n",
       "      <td>2017</td>\n",
       "    </tr>\n",
       "    <tr>\n",
       "      <th>2</th>\n",
       "      <td>3</td>\n",
       "      <td>Kareem Hunt*</td>\n",
       "      <td>KAN</td>\n",
       "      <td>RB</td>\n",
       "      <td>22</td>\n",
       "      <td>16</td>\n",
       "      <td>16</td>\n",
       "      <td>0</td>\n",
       "      <td>0</td>\n",
       "      <td>0</td>\n",
       "      <td>...</td>\n",
       "      <td>NaN</td>\n",
       "      <td>NaN</td>\n",
       "      <td>242</td>\n",
       "      <td>295.2</td>\n",
       "      <td>302.2</td>\n",
       "      <td>268.7</td>\n",
       "      <td>115</td>\n",
       "      <td>3</td>\n",
       "      <td>3</td>\n",
       "      <td>2017</td>\n",
       "    </tr>\n",
       "    <tr>\n",
       "      <th>3</th>\n",
       "      <td>4</td>\n",
       "      <td>Alvin Kamara*</td>\n",
       "      <td>NOR</td>\n",
       "      <td>RB</td>\n",
       "      <td>22</td>\n",
       "      <td>16</td>\n",
       "      <td>3</td>\n",
       "      <td>0</td>\n",
       "      <td>0</td>\n",
       "      <td>0</td>\n",
       "      <td>...</td>\n",
       "      <td>1</td>\n",
       "      <td>NaN</td>\n",
       "      <td>239</td>\n",
       "      <td>320.4</td>\n",
       "      <td>327.4</td>\n",
       "      <td>279.9</td>\n",
       "      <td>112</td>\n",
       "      <td>4</td>\n",
       "      <td>4</td>\n",
       "      <td>2017</td>\n",
       "    </tr>\n",
       "    <tr>\n",
       "      <th>4</th>\n",
       "      <td>5</td>\n",
       "      <td>Melvin Gordon</td>\n",
       "      <td>LAC</td>\n",
       "      <td>RB</td>\n",
       "      <td>24</td>\n",
       "      <td>16</td>\n",
       "      <td>16</td>\n",
       "      <td>0</td>\n",
       "      <td>0</td>\n",
       "      <td>0</td>\n",
       "      <td>...</td>\n",
       "      <td>NaN</td>\n",
       "      <td>NaN</td>\n",
       "      <td>230</td>\n",
       "      <td>288.1</td>\n",
       "      <td>294.1</td>\n",
       "      <td>259.1</td>\n",
       "      <td>103</td>\n",
       "      <td>5</td>\n",
       "      <td>5</td>\n",
       "      <td>2017</td>\n",
       "    </tr>\n",
       "  </tbody>\n",
       "</table>\n",
       "<p>5 rows × 34 columns</p>\n",
       "</div>"
      ],
      "text/plain": [
       "  Unnamed: 0_level_0 Unnamed: 1_level_0 Unnamed: 2_level_0 Unnamed: 3_level_0  \\\n",
       "                  Rk             Player                 Tm            FantPos   \n",
       "0                  1      Todd Gurley*+                LAR                 RB   \n",
       "1                  2     Le'Veon Bell*+                PIT                 RB   \n",
       "2                  3       Kareem Hunt*                KAN                 RB   \n",
       "3                  4      Alvin Kamara*                NOR                 RB   \n",
       "4                  5      Melvin Gordon                LAC                 RB   \n",
       "\n",
       "  Unnamed: 4_level_0 Games     Passing          ... Scoring      Fantasy  \\\n",
       "                 Age     G  GS     Cmp Att Yds  ...     2PM  2PP  FantPt   \n",
       "0                 23    15  15       0   0   0  ...     NaN  NaN     319   \n",
       "1                 25    15  15       0   0   0  ...     NaN  NaN     257   \n",
       "2                 22    16  16       0   0   0  ...     NaN  NaN     242   \n",
       "3                 22    16   3       0   0   0  ...       1  NaN     239   \n",
       "4                 24    16  16       0   0   0  ...     NaN  NaN     230   \n",
       "\n",
       "                                           Season  \n",
       "     PPR   DKPt   FDPt  VBD PosRank OvRank         \n",
       "0  383.3  391.3  351.3  192       1      1   2017  \n",
       "1  341.6  349.6  299.1  130       2      2   2017  \n",
       "2  295.2  302.2  268.7  115       3      3   2017  \n",
       "3  320.4  327.4  279.9  112       4      4   2017  \n",
       "4  288.1  294.1  259.1  103       5      5   2017  \n",
       "\n",
       "[5 rows x 34 columns]"
      ]
     },
     "metadata": {},
     "output_type": "display_data"
    }
   ],
   "source": [
    "import pandas as pd\n",
    "import requests\n",
    "from bs4 import BeautifulSoup, Comment\n",
    "\n",
    "def scrape_fantasy_season(year):\n",
    "    url = f'https://www.pro-football-reference.com/years/{year}/fantasy.htm'\n",
    "    print(f\"🔄 Scraping {year}...\")\n",
    "    response = requests.get(url)\n",
    "    soup = BeautifulSoup(response.content, 'html.parser')\n",
    "\n",
    "    # Try direct table\n",
    "    table = soup.find('table', id='fantasy')\n",
    "\n",
    "    # Try inside comments if not found\n",
    "    if table is None:\n",
    "        comments = soup.find_all(string=lambda text: isinstance(text, Comment))\n",
    "        for comment in comments:\n",
    "            if 'id=\"fantasy\"' in comment:\n",
    "                table = BeautifulSoup(comment, 'html.parser').find('table', id='fantasy')\n",
    "                break\n",
    "\n",
    "    if table is None:\n",
    "        print(f\"❌ {year} failed: No fantasy table found.\")\n",
    "        return None\n",
    "\n",
    "    df = pd.read_html(str(table))[0]\n",
    "    df['Season'] = year\n",
    "    return df\n",
    "\n",
    "# Loop through 2017–2024\n",
    "all_years = []\n",
    "for yr in range(2017, 2025):\n",
    "    try:\n",
    "        df = scrape_fantasy_season(yr)\n",
    "        if df is not None:\n",
    "            all_years.append(df)\n",
    "    except Exception as e:\n",
    "        print(f\"⚠️ Error in {yr}: {e}\")\n",
    "\n",
    "# Combine all years\n",
    "if all_years:\n",
    "    fantasy_df = pd.concat(all_years, ignore_index=True)\n",
    "    print(f\"✅ Combined DataFrame shape: {fantasy_df.shape}\")\n",
    "    # fantasy_df.to_csv(\"fantasy_2017_2024.csv\", index=False)\n",
    "    display(fantasy_df.head())\n",
    "else:\n",
    "    print(\"❌ No data was scraped.\")\n"
   ]
  },
  {
   "cell_type": "code",
   "execution_count": 2,
   "metadata": {},
   "outputs": [],
   "source": [
    "def normalize_column_names(df):\n",
    "    df.columns = (\n",
    "        df.columns\n",
    "        .str.lower()\n",
    "        .str.replace(' ', '_')\n",
    "        .str.replace(r'[^\\w_]', '', regex=True)\n",
    "    )\n",
    "\n",
    "    rename_map = {\n",
    "        'player': 'player',\n",
    "        'tm': 'team',\n",
    "        'fantasy_fantpt': 'fantasy_points',\n",
    "        'fantasy_posrank': 'pos_rank',\n",
    "        'fantasy_ovrank': 'ovr_rank',\n",
    "        'rushing_yds': 'rush_yds',\n",
    "        'rushing_td': 'rush_td',\n",
    "        'receiving_yds': 'rec_yds',\n",
    "        'receiving_td': 'rec_td',\n",
    "        'passing_yds': 'pass_yds',\n",
    "        'passing_td': 'pass_td',\n",
    "        'passing_int': 'interceptions',\n",
    "        'season': 'season'\n",
    "    }\n",
    "\n",
    "    df.rename(columns={k: v for k, v in rename_map.items() if k in df.columns}, inplace=True)\n",
    "    return df\n"
   ]
  },
  {
   "cell_type": "code",
   "execution_count": 3,
   "metadata": {},
   "outputs": [
    {
     "name": "stdout",
     "output_type": "stream",
     "text": [
      "✅ Flattened Columns:\n",
      " Index(['Unnamed: 0_level_0 Rk', 'Unnamed: 1_level_0 Player',\n",
      "       'Unnamed: 2_level_0 Tm', 'Unnamed: 3_level_0 FantPos',\n",
      "       'Unnamed: 4_level_0 Age', 'Games G', 'Games GS', 'Passing Cmp',\n",
      "       'Passing Att', 'Passing Yds'],\n",
      "      dtype='object')\n"
     ]
    }
   ],
   "source": [
    "# If any tables had multi-level column headers, flatten them\n",
    "# Flatten MultiIndex columns into single strings\n",
    "fantasy_df.columns = [' '.join(col).strip() if isinstance(col, tuple) else col for col in fantasy_df.columns]\n",
    "\n",
    "# Check the first 10 column names to confirm\n",
    "print(\"✅ Flattened Columns:\\n\", fantasy_df.columns[:10])"
   ]
  },
  {
   "cell_type": "code",
   "execution_count": 22,
   "metadata": {},
   "outputs": [],
   "source": [
    "fantasy_df = fantasy_df.rename(columns={\n",
    "    'Fantasy FantPt': 'FantPt',\n",
    "    'Fumbles Fmb': 'Fumbles',\n",
    "    'Games G': 'Games',\n",
    "    'Unnamed: 0_level_0 Rk': 'Rk',\n",
    "    'Unnamed: 1_level_0 Player': 'Player',\n",
    "    'Unnamed: 2_level_0 Tm': 'Team',\n",
    "    'Unnamed: 3_level_0 FantPos': 'Position',\n",
    "    'Unnamed: 4_level_0 Age': 'Age'\n",
    "})"
   ]
  },
  {
   "cell_type": "code",
   "execution_count": 23,
   "metadata": {},
   "outputs": [
    {
     "name": "stdout",
     "output_type": "stream",
     "text": [
      "['Rk', 'Player', 'Team', 'Position', 'Age', 'Games', 'Games GS', 'Passing Cmp', 'Passing Att', 'Passing Yds', 'Passing TD', 'Passing Int', 'Rushing Att', 'Rushing Yds', 'Rushing Y/A', 'Rushing TD', 'Receiving Tgt', 'Receiving Rec', 'Receiving Yds', 'Receiving Y/R', 'Receiving TD', 'Fumbles', 'Fumbles FL', 'Scoring TD', 'Scoring 2PM', 'Scoring 2PP', 'FantPt', 'Fantasy PPR', 'Fantasy DKPt', 'Fantasy FDPt', 'Fantasy VBD', 'Fantasy PosRank', 'Fantasy OvRank', 'Season']\n"
     ]
    }
   ],
   "source": [
    "print(fantasy_df.columns.tolist())"
   ]
  },
  {
   "cell_type": "code",
   "execution_count": 24,
   "metadata": {},
   "outputs": [
    {
     "name": "stdout",
     "output_type": "stream",
     "text": [
      "           Player  FantPt  Fumbles Position Age\n",
      "0   Todd Gurley*+     319        5       RB  23\n",
      "1  Le'Veon Bell*+     257        3       RB  25\n",
      "2    Kareem Hunt*     242        1       RB  22\n",
      "3   Alvin Kamara*     239        1       RB  22\n",
      "4   Melvin Gordon     230        1       RB  24\n"
     ]
    }
   ],
   "source": [
    "print(fantasy_df[['Player', 'FantPt', 'Fumbles', 'Position', 'Age']].head())"
   ]
  },
  {
   "cell_type": "code",
   "execution_count": 25,
   "metadata": {},
   "outputs": [],
   "source": [
    "# Drop rows with missing or repeated headers\n",
    "fantasy_df = fantasy_df[fantasy_df['Player'].notna()]\n",
    "fantasy_df = fantasy_df[fantasy_df['Player'] != 'Player']\n",
    "\n",
    "# Fill NaNs\n",
    "fantasy_df['FantPt'] = fantasy_df['FantPt'].fillna(0)\n",
    "fantasy_df['Fumbles'] = fantasy_df['Fumbles'].fillna(0)\n",
    "\n",
    "# Cast numeric columns\n",
    "fantasy_df['FantPt'] = pd.to_numeric(fantasy_df['FantPt'], errors='coerce')\n",
    "fantasy_df['Fumbles'] = pd.to_numeric(fantasy_df['Fumbles'], errors='coerce')"
   ]
  },
  {
   "cell_type": "code",
   "execution_count": 37,
   "metadata": {},
   "outputs": [
    {
     "name": "stdout",
     "output_type": "stream",
     "text": [
      "Player        \n",
      "Chris Moore       9\n",
      "Nelson Agholor    8\n",
      "Allen Robinson    8\n",
      "Johnny Mundt      8\n",
      "Gerald Everett    8\n",
      "Name: count, dtype: int64\n"
     ]
    }
   ],
   "source": [
    "print(fantasy_df[['Player']].value_counts().head())\n"
   ]
  },
  {
   "cell_type": "code",
   "execution_count": 28,
   "metadata": {},
   "outputs": [],
   "source": [
    "season_dfs = {\n",
    "    season: fantasy_df[fantasy_df['Season'] == season].reset_index(drop=True)\n",
    "    for season in fantasy_df['Season'].unique()\n",
    "}"
   ]
  },
  {
   "cell_type": "code",
   "execution_count": 35,
   "metadata": {},
   "outputs": [
    {
     "data": {
      "text/plain": [
       "Player\n",
       "Todd Gurley*+    1\n",
       "Kenjon Barner    1\n",
       "Corey Coleman    1\n",
       "Tyler Conklin    1\n",
       "Matt Lengel      1\n",
       "Name: count, dtype: int64"
      ]
     },
     "execution_count": 35,
     "metadata": {},
     "output_type": "execute_result"
    }
   ],
   "source": [
    "season_dfs[2018]['Player'].value_counts().head()"
   ]
  }
 ],
 "metadata": {
  "kernelspec": {
   "display_name": "base",
   "language": "python",
   "name": "python3"
  },
  "language_info": {
   "codemirror_mode": {
    "name": "ipython",
    "version": 3
   },
   "file_extension": ".py",
   "mimetype": "text/x-python",
   "name": "python",
   "nbconvert_exporter": "python",
   "pygments_lexer": "ipython3",
   "version": "3.12.3"
  }
 },
 "nbformat": 4,
 "nbformat_minor": 2
}
